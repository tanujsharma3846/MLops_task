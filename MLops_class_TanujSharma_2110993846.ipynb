{
  "nbformat": 4,
  "nbformat_minor": 0,
  "metadata": {
    "colab": {
      "provenance": []
    },
    "kernelspec": {
      "name": "python3",
      "display_name": "Python 3"
    },
    "language_info": {
      "name": "python"
    }
  },
  "cells": [
    {
      "cell_type": "code",
      "execution_count": 1,
      "metadata": {
        "id": "2Qmq4I2oAZPp"
      },
      "outputs": [],
      "source": [
        "import pandas as pd\n",
        "import numpy as np"
      ]
    },
    {
      "cell_type": "code",
      "source": [
        "survey = pd.read_excel('/content/Sample Survey.xlsx',sheet_name='Data')\n",
        "survey.head()"
      ],
      "metadata": {
        "colab": {
          "base_uri": "https://localhost:8080/",
          "height": 486
        },
        "id": "VkjHPo0WBPI7",
        "outputId": "bfe01a47-b667-4e05-8500-9f67787891a9"
      },
      "execution_count": 5,
      "outputs": [
        {
          "output_type": "execute_result",
          "data": {
            "text/plain": [
              "   response_id collection_date urban_rural  education               income  \\\n",
              "0            1      2020-08-24       Rural  12th Pass  ₹ 30,000 - ₹ 50,000   \n",
              "1            2      2020-08-24       Rural   Graduate  ₹ 20,000 - ₹ 30,000   \n",
              "2            3      2020-08-24       Rural   Graduate   ₹ 5,000 - ₹ 10,000   \n",
              "3            4      2020-08-24       Urban   Graduate  ₹ 10,000 - ₹ 20,000   \n",
              "4            5      2020-08-24       Rural   Graduate  ₹ 50,000 - ₹ 80,000   \n",
              "\n",
              "  Vote_Now     Past_Vote     CM_satisfaction    MLA_satisfaction age gender  \\\n",
              "0      BJP           BJP  Fully Dissatisfied  Fully Dissatisfied  26   Male   \n",
              "1     RLSP         JD(U)  Somewhat Satisfied  Fully Dissatisfied  34   Male   \n",
              "2   JAP(L)           BJP  Fully Dissatisfied  Somewhat Satisfied  25   Male   \n",
              "3      RJD           RJD  Fully Dissatisfied  Somewhat Satisfied  36   Male   \n",
              "4    JD(U)  Did not vote     Fully Satisfied     Fully Satisfied  22   Male   \n",
              "\n",
              "   assembly_no category    weight  \n",
              "0          211      Gen  0.346969  \n",
              "1          189       BC  0.603419  \n",
              "2          191      Gen  0.673762  \n",
              "3          194      Gen  1.101298  \n",
              "4          176       BC  0.333505  "
            ],
            "text/html": [
              "\n",
              "  <div id=\"df-3fa20f8b-0aea-428e-8574-db74c56a60b2\" class=\"colab-df-container\">\n",
              "    <div>\n",
              "<style scoped>\n",
              "    .dataframe tbody tr th:only-of-type {\n",
              "        vertical-align: middle;\n",
              "    }\n",
              "\n",
              "    .dataframe tbody tr th {\n",
              "        vertical-align: top;\n",
              "    }\n",
              "\n",
              "    .dataframe thead th {\n",
              "        text-align: right;\n",
              "    }\n",
              "</style>\n",
              "<table border=\"1\" class=\"dataframe\">\n",
              "  <thead>\n",
              "    <tr style=\"text-align: right;\">\n",
              "      <th></th>\n",
              "      <th>response_id</th>\n",
              "      <th>collection_date</th>\n",
              "      <th>urban_rural</th>\n",
              "      <th>education</th>\n",
              "      <th>income</th>\n",
              "      <th>Vote_Now</th>\n",
              "      <th>Past_Vote</th>\n",
              "      <th>CM_satisfaction</th>\n",
              "      <th>MLA_satisfaction</th>\n",
              "      <th>age</th>\n",
              "      <th>gender</th>\n",
              "      <th>assembly_no</th>\n",
              "      <th>category</th>\n",
              "      <th>weight</th>\n",
              "    </tr>\n",
              "  </thead>\n",
              "  <tbody>\n",
              "    <tr>\n",
              "      <th>0</th>\n",
              "      <td>1</td>\n",
              "      <td>2020-08-24</td>\n",
              "      <td>Rural</td>\n",
              "      <td>12th Pass</td>\n",
              "      <td>₹ 30,000 - ₹ 50,000</td>\n",
              "      <td>BJP</td>\n",
              "      <td>BJP</td>\n",
              "      <td>Fully Dissatisfied</td>\n",
              "      <td>Fully Dissatisfied</td>\n",
              "      <td>26</td>\n",
              "      <td>Male</td>\n",
              "      <td>211</td>\n",
              "      <td>Gen</td>\n",
              "      <td>0.346969</td>\n",
              "    </tr>\n",
              "    <tr>\n",
              "      <th>1</th>\n",
              "      <td>2</td>\n",
              "      <td>2020-08-24</td>\n",
              "      <td>Rural</td>\n",
              "      <td>Graduate</td>\n",
              "      <td>₹ 20,000 - ₹ 30,000</td>\n",
              "      <td>RLSP</td>\n",
              "      <td>JD(U)</td>\n",
              "      <td>Somewhat Satisfied</td>\n",
              "      <td>Fully Dissatisfied</td>\n",
              "      <td>34</td>\n",
              "      <td>Male</td>\n",
              "      <td>189</td>\n",
              "      <td>BC</td>\n",
              "      <td>0.603419</td>\n",
              "    </tr>\n",
              "    <tr>\n",
              "      <th>2</th>\n",
              "      <td>3</td>\n",
              "      <td>2020-08-24</td>\n",
              "      <td>Rural</td>\n",
              "      <td>Graduate</td>\n",
              "      <td>₹ 5,000 - ₹ 10,000</td>\n",
              "      <td>JAP(L)</td>\n",
              "      <td>BJP</td>\n",
              "      <td>Fully Dissatisfied</td>\n",
              "      <td>Somewhat Satisfied</td>\n",
              "      <td>25</td>\n",
              "      <td>Male</td>\n",
              "      <td>191</td>\n",
              "      <td>Gen</td>\n",
              "      <td>0.673762</td>\n",
              "    </tr>\n",
              "    <tr>\n",
              "      <th>3</th>\n",
              "      <td>4</td>\n",
              "      <td>2020-08-24</td>\n",
              "      <td>Urban</td>\n",
              "      <td>Graduate</td>\n",
              "      <td>₹ 10,000 - ₹ 20,000</td>\n",
              "      <td>RJD</td>\n",
              "      <td>RJD</td>\n",
              "      <td>Fully Dissatisfied</td>\n",
              "      <td>Somewhat Satisfied</td>\n",
              "      <td>36</td>\n",
              "      <td>Male</td>\n",
              "      <td>194</td>\n",
              "      <td>Gen</td>\n",
              "      <td>1.101298</td>\n",
              "    </tr>\n",
              "    <tr>\n",
              "      <th>4</th>\n",
              "      <td>5</td>\n",
              "      <td>2020-08-24</td>\n",
              "      <td>Rural</td>\n",
              "      <td>Graduate</td>\n",
              "      <td>₹ 50,000 - ₹ 80,000</td>\n",
              "      <td>JD(U)</td>\n",
              "      <td>Did not vote</td>\n",
              "      <td>Fully Satisfied</td>\n",
              "      <td>Fully Satisfied</td>\n",
              "      <td>22</td>\n",
              "      <td>Male</td>\n",
              "      <td>176</td>\n",
              "      <td>BC</td>\n",
              "      <td>0.333505</td>\n",
              "    </tr>\n",
              "  </tbody>\n",
              "</table>\n",
              "</div>\n",
              "    <div class=\"colab-df-buttons\">\n",
              "\n",
              "  <div class=\"colab-df-container\">\n",
              "    <button class=\"colab-df-convert\" onclick=\"convertToInteractive('df-3fa20f8b-0aea-428e-8574-db74c56a60b2')\"\n",
              "            title=\"Convert this dataframe to an interactive table.\"\n",
              "            style=\"display:none;\">\n",
              "\n",
              "  <svg xmlns=\"http://www.w3.org/2000/svg\" height=\"24px\" viewBox=\"0 -960 960 960\">\n",
              "    <path d=\"M120-120v-720h720v720H120Zm60-500h600v-160H180v160Zm220 220h160v-160H400v160Zm0 220h160v-160H400v160ZM180-400h160v-160H180v160Zm440 0h160v-160H620v160ZM180-180h160v-160H180v160Zm440 0h160v-160H620v160Z\"/>\n",
              "  </svg>\n",
              "    </button>\n",
              "\n",
              "  <style>\n",
              "    .colab-df-container {\n",
              "      display:flex;\n",
              "      gap: 12px;\n",
              "    }\n",
              "\n",
              "    .colab-df-convert {\n",
              "      background-color: #E8F0FE;\n",
              "      border: none;\n",
              "      border-radius: 50%;\n",
              "      cursor: pointer;\n",
              "      display: none;\n",
              "      fill: #1967D2;\n",
              "      height: 32px;\n",
              "      padding: 0 0 0 0;\n",
              "      width: 32px;\n",
              "    }\n",
              "\n",
              "    .colab-df-convert:hover {\n",
              "      background-color: #E2EBFA;\n",
              "      box-shadow: 0px 1px 2px rgba(60, 64, 67, 0.3), 0px 1px 3px 1px rgba(60, 64, 67, 0.15);\n",
              "      fill: #174EA6;\n",
              "    }\n",
              "\n",
              "    .colab-df-buttons div {\n",
              "      margin-bottom: 4px;\n",
              "    }\n",
              "\n",
              "    [theme=dark] .colab-df-convert {\n",
              "      background-color: #3B4455;\n",
              "      fill: #D2E3FC;\n",
              "    }\n",
              "\n",
              "    [theme=dark] .colab-df-convert:hover {\n",
              "      background-color: #434B5C;\n",
              "      box-shadow: 0px 1px 3px 1px rgba(0, 0, 0, 0.15);\n",
              "      filter: drop-shadow(0px 1px 2px rgba(0, 0, 0, 0.3));\n",
              "      fill: #FFFFFF;\n",
              "    }\n",
              "  </style>\n",
              "\n",
              "    <script>\n",
              "      const buttonEl =\n",
              "        document.querySelector('#df-3fa20f8b-0aea-428e-8574-db74c56a60b2 button.colab-df-convert');\n",
              "      buttonEl.style.display =\n",
              "        google.colab.kernel.accessAllowed ? 'block' : 'none';\n",
              "\n",
              "      async function convertToInteractive(key) {\n",
              "        const element = document.querySelector('#df-3fa20f8b-0aea-428e-8574-db74c56a60b2');\n",
              "        const dataTable =\n",
              "          await google.colab.kernel.invokeFunction('convertToInteractive',\n",
              "                                                    [key], {});\n",
              "        if (!dataTable) return;\n",
              "\n",
              "        const docLinkHtml = 'Like what you see? Visit the ' +\n",
              "          '<a target=\"_blank\" href=https://colab.research.google.com/notebooks/data_table.ipynb>data table notebook</a>'\n",
              "          + ' to learn more about interactive tables.';\n",
              "        element.innerHTML = '';\n",
              "        dataTable['output_type'] = 'display_data';\n",
              "        await google.colab.output.renderOutput(dataTable, element);\n",
              "        const docLink = document.createElement('div');\n",
              "        docLink.innerHTML = docLinkHtml;\n",
              "        element.appendChild(docLink);\n",
              "      }\n",
              "    </script>\n",
              "  </div>\n",
              "\n",
              "\n",
              "<div id=\"df-a5c86a9a-f41b-4ee8-ac50-8f9a594ddf0e\">\n",
              "  <button class=\"colab-df-quickchart\" onclick=\"quickchart('df-a5c86a9a-f41b-4ee8-ac50-8f9a594ddf0e')\"\n",
              "            title=\"Suggest charts\"\n",
              "            style=\"display:none;\">\n",
              "\n",
              "<svg xmlns=\"http://www.w3.org/2000/svg\" height=\"24px\"viewBox=\"0 0 24 24\"\n",
              "     width=\"24px\">\n",
              "    <g>\n",
              "        <path d=\"M19 3H5c-1.1 0-2 .9-2 2v14c0 1.1.9 2 2 2h14c1.1 0 2-.9 2-2V5c0-1.1-.9-2-2-2zM9 17H7v-7h2v7zm4 0h-2V7h2v10zm4 0h-2v-4h2v4z\"/>\n",
              "    </g>\n",
              "</svg>\n",
              "  </button>\n",
              "\n",
              "<style>\n",
              "  .colab-df-quickchart {\n",
              "      --bg-color: #E8F0FE;\n",
              "      --fill-color: #1967D2;\n",
              "      --hover-bg-color: #E2EBFA;\n",
              "      --hover-fill-color: #174EA6;\n",
              "      --disabled-fill-color: #AAA;\n",
              "      --disabled-bg-color: #DDD;\n",
              "  }\n",
              "\n",
              "  [theme=dark] .colab-df-quickchart {\n",
              "      --bg-color: #3B4455;\n",
              "      --fill-color: #D2E3FC;\n",
              "      --hover-bg-color: #434B5C;\n",
              "      --hover-fill-color: #FFFFFF;\n",
              "      --disabled-bg-color: #3B4455;\n",
              "      --disabled-fill-color: #666;\n",
              "  }\n",
              "\n",
              "  .colab-df-quickchart {\n",
              "    background-color: var(--bg-color);\n",
              "    border: none;\n",
              "    border-radius: 50%;\n",
              "    cursor: pointer;\n",
              "    display: none;\n",
              "    fill: var(--fill-color);\n",
              "    height: 32px;\n",
              "    padding: 0;\n",
              "    width: 32px;\n",
              "  }\n",
              "\n",
              "  .colab-df-quickchart:hover {\n",
              "    background-color: var(--hover-bg-color);\n",
              "    box-shadow: 0 1px 2px rgba(60, 64, 67, 0.3), 0 1px 3px 1px rgba(60, 64, 67, 0.15);\n",
              "    fill: var(--button-hover-fill-color);\n",
              "  }\n",
              "\n",
              "  .colab-df-quickchart-complete:disabled,\n",
              "  .colab-df-quickchart-complete:disabled:hover {\n",
              "    background-color: var(--disabled-bg-color);\n",
              "    fill: var(--disabled-fill-color);\n",
              "    box-shadow: none;\n",
              "  }\n",
              "\n",
              "  .colab-df-spinner {\n",
              "    border: 2px solid var(--fill-color);\n",
              "    border-color: transparent;\n",
              "    border-bottom-color: var(--fill-color);\n",
              "    animation:\n",
              "      spin 1s steps(1) infinite;\n",
              "  }\n",
              "\n",
              "  @keyframes spin {\n",
              "    0% {\n",
              "      border-color: transparent;\n",
              "      border-bottom-color: var(--fill-color);\n",
              "      border-left-color: var(--fill-color);\n",
              "    }\n",
              "    20% {\n",
              "      border-color: transparent;\n",
              "      border-left-color: var(--fill-color);\n",
              "      border-top-color: var(--fill-color);\n",
              "    }\n",
              "    30% {\n",
              "      border-color: transparent;\n",
              "      border-left-color: var(--fill-color);\n",
              "      border-top-color: var(--fill-color);\n",
              "      border-right-color: var(--fill-color);\n",
              "    }\n",
              "    40% {\n",
              "      border-color: transparent;\n",
              "      border-right-color: var(--fill-color);\n",
              "      border-top-color: var(--fill-color);\n",
              "    }\n",
              "    60% {\n",
              "      border-color: transparent;\n",
              "      border-right-color: var(--fill-color);\n",
              "    }\n",
              "    80% {\n",
              "      border-color: transparent;\n",
              "      border-right-color: var(--fill-color);\n",
              "      border-bottom-color: var(--fill-color);\n",
              "    }\n",
              "    90% {\n",
              "      border-color: transparent;\n",
              "      border-bottom-color: var(--fill-color);\n",
              "    }\n",
              "  }\n",
              "</style>\n",
              "\n",
              "  <script>\n",
              "    async function quickchart(key) {\n",
              "      const quickchartButtonEl =\n",
              "        document.querySelector('#' + key + ' button');\n",
              "      quickchartButtonEl.disabled = true;  // To prevent multiple clicks.\n",
              "      quickchartButtonEl.classList.add('colab-df-spinner');\n",
              "      try {\n",
              "        const charts = await google.colab.kernel.invokeFunction(\n",
              "            'suggestCharts', [key], {});\n",
              "      } catch (error) {\n",
              "        console.error('Error during call to suggestCharts:', error);\n",
              "      }\n",
              "      quickchartButtonEl.classList.remove('colab-df-spinner');\n",
              "      quickchartButtonEl.classList.add('colab-df-quickchart-complete');\n",
              "    }\n",
              "    (() => {\n",
              "      let quickchartButtonEl =\n",
              "        document.querySelector('#df-a5c86a9a-f41b-4ee8-ac50-8f9a594ddf0e button');\n",
              "      quickchartButtonEl.style.display =\n",
              "        google.colab.kernel.accessAllowed ? 'block' : 'none';\n",
              "    })();\n",
              "  </script>\n",
              "</div>\n",
              "\n",
              "    </div>\n",
              "  </div>\n"
            ],
            "application/vnd.google.colaboratory.intrinsic+json": {
              "type": "dataframe",
              "variable_name": "survey",
              "summary": "{\n  \"name\": \"survey\",\n  \"rows\": 6867,\n  \"fields\": [\n    {\n      \"column\": \"response_id\",\n      \"properties\": {\n        \"dtype\": \"number\",\n        \"std\": 1982,\n        \"min\": 1,\n        \"max\": 6867,\n        \"num_unique_values\": 6867,\n        \"samples\": [\n          1551,\n          1222,\n          1942\n        ],\n        \"semantic_type\": \"\",\n        \"description\": \"\"\n      }\n    },\n    {\n      \"column\": \"collection_date\",\n      \"properties\": {\n        \"dtype\": \"date\",\n        \"min\": \"2020-08-24 00:00:00\",\n        \"max\": \"2020-09-01 00:00:00\",\n        \"num_unique_values\": 9,\n        \"samples\": [\n          \"2020-08-31 00:00:00\",\n          \"2020-08-25 00:00:00\",\n          \"2020-08-29 00:00:00\"\n        ],\n        \"semantic_type\": \"\",\n        \"description\": \"\"\n      }\n    },\n    {\n      \"column\": \"urban_rural\",\n      \"properties\": {\n        \"dtype\": \"category\",\n        \"num_unique_values\": 2,\n        \"samples\": [\n          \"Urban\",\n          \"Rural\"\n        ],\n        \"semantic_type\": \"\",\n        \"description\": \"\"\n      }\n    },\n    {\n      \"column\": \"education\",\n      \"properties\": {\n        \"dtype\": \"category\",\n        \"num_unique_values\": 7,\n        \"samples\": [\n          \"12th Pass\",\n          \"Graduate\"\n        ],\n        \"semantic_type\": \"\",\n        \"description\": \"\"\n      }\n    },\n    {\n      \"column\": \"income\",\n      \"properties\": {\n        \"dtype\": \"category\",\n        \"num_unique_values\": 8,\n        \"samples\": [\n          \"\\u20b9 20,000 - \\u20b9 30,000\",\n          \"BPL/Below \\u20b9 5,000\"\n        ],\n        \"semantic_type\": \"\",\n        \"description\": \"\"\n      }\n    },\n    {\n      \"column\": \"Vote_Now\",\n      \"properties\": {\n        \"dtype\": \"category\",\n        \"num_unique_values\": 18,\n        \"samples\": [\n          \"BJP\",\n          \"RLSP\"\n        ],\n        \"semantic_type\": \"\",\n        \"description\": \"\"\n      }\n    },\n    {\n      \"column\": \"Past_Vote\",\n      \"properties\": {\n        \"dtype\": \"category\",\n        \"num_unique_values\": 14,\n        \"samples\": [\n          \"Left Front\",\n          \"HAM\"\n        ],\n        \"semantic_type\": \"\",\n        \"description\": \"\"\n      }\n    },\n    {\n      \"column\": \"CM_satisfaction\",\n      \"properties\": {\n        \"dtype\": \"category\",\n        \"num_unique_values\": 5,\n        \"samples\": [\n          \"Somewhat Satisfied\",\n          \"Can\\u2019t say\"\n        ],\n        \"semantic_type\": \"\",\n        \"description\": \"\"\n      }\n    },\n    {\n      \"column\": \"MLA_satisfaction\",\n      \"properties\": {\n        \"dtype\": \"category\",\n        \"num_unique_values\": 5,\n        \"samples\": [\n          \"Somewhat Satisfied\",\n          \"Can\\u2019t say\"\n        ],\n        \"semantic_type\": \"\",\n        \"description\": \"\"\n      }\n    },\n    {\n      \"column\": \"age\",\n      \"properties\": {\n        \"dtype\": \"category\",\n        \"num_unique_values\": 60,\n        \"samples\": [\n          26,\n          38\n        ],\n        \"semantic_type\": \"\",\n        \"description\": \"\"\n      }\n    },\n    {\n      \"column\": \"gender\",\n      \"properties\": {\n        \"dtype\": \"category\",\n        \"num_unique_values\": 3,\n        \"samples\": [\n          \"Male\",\n          \"Female\"\n        ],\n        \"semantic_type\": \"\",\n        \"description\": \"\"\n      }\n    },\n    {\n      \"column\": \"assembly_no\",\n      \"properties\": {\n        \"dtype\": \"number\",\n        \"std\": 66,\n        \"min\": 1,\n        \"max\": 243,\n        \"num_unique_values\": 241,\n        \"samples\": [\n          207,\n          172\n        ],\n        \"semantic_type\": \"\",\n        \"description\": \"\"\n      }\n    },\n    {\n      \"column\": \"category\",\n      \"properties\": {\n        \"dtype\": \"category\",\n        \"num_unique_values\": 5,\n        \"samples\": [\n          \"BC\",\n          \"SC\"\n        ],\n        \"semantic_type\": \"\",\n        \"description\": \"\"\n      }\n    },\n    {\n      \"column\": \"weight\",\n      \"properties\": {\n        \"dtype\": \"number\",\n        \"std\": 2.0745779579066297,\n        \"min\": 0.001088764804,\n        \"max\": 51.07563112,\n        \"num_unique_values\": 1561,\n        \"samples\": [\n          0.654514909,\n          1.74156228\n        ],\n        \"semantic_type\": \"\",\n        \"description\": \"\"\n      }\n    }\n  ]\n}"
            }
          },
          "metadata": {},
          "execution_count": 5
        }
      ]
    },
    {
      "cell_type": "code",
      "source": [
        "survey['collection_date']"
      ],
      "metadata": {
        "colab": {
          "base_uri": "https://localhost:8080/"
        },
        "id": "D-uQ-qw7Ba01",
        "outputId": "8f6002b7-ef0c-4e5e-cc05-968261293f16"
      },
      "execution_count": 6,
      "outputs": [
        {
          "output_type": "execute_result",
          "data": {
            "text/plain": [
              "0      2020-08-24\n",
              "1      2020-08-24\n",
              "2      2020-08-24\n",
              "3      2020-08-24\n",
              "4      2020-08-24\n",
              "          ...    \n",
              "6862   2020-09-01\n",
              "6863   2020-09-01\n",
              "6864   2020-09-01\n",
              "6865   2020-09-01\n",
              "6866   2020-09-01\n",
              "Name: collection_date, Length: 6867, dtype: datetime64[ns]"
            ]
          },
          "metadata": {},
          "execution_count": 6
        }
      ]
    },
    {
      "cell_type": "code",
      "source": [
        "# 2 -- > How many samples were collected on each day?\n",
        "\n",
        "import pandas as pd\n",
        "\n",
        "# Assuming 'df' is your DataFrame and 'date_column' is the column containing dates\n",
        "date_counts = survey['collection_date'].value_counts()\n",
        "print(date_counts)\n"
      ],
      "metadata": {
        "colab": {
          "base_uri": "https://localhost:8080/"
        },
        "id": "KRPySZSWDzJY",
        "outputId": "08c49d4c-e128-4ed1-ed54-c4121b0fa4fa"
      },
      "execution_count": 8,
      "outputs": [
        {
          "output_type": "stream",
          "name": "stdout",
          "text": [
            "2020-08-24    1479\n",
            "2020-08-25     998\n",
            "2020-08-28     761\n",
            "2020-08-27     665\n",
            "2020-08-29     620\n",
            "2020-09-01     607\n",
            "2020-08-26     598\n",
            "2020-08-30     582\n",
            "2020-08-31     557\n",
            "Name: collection_date, dtype: int64\n"
          ]
        }
      ]
    },
    {
      "cell_type": "code",
      "source": [
        "# 3 ->  What proportion of the total respondents were aged less than 45?"
      ],
      "metadata": {
        "id": "RSI8VvzfEBAo"
      },
      "execution_count": 9,
      "outputs": []
    },
    {
      "cell_type": "code",
      "source": [],
      "metadata": {
        "id": "ESvvGa2wH-Tb"
      },
      "execution_count": 22,
      "outputs": []
    },
    {
      "cell_type": "code",
      "source": [
        "survey['age'].unique()"
      ],
      "metadata": {
        "colab": {
          "base_uri": "https://localhost:8080/"
        },
        "id": "NIMjo7BMEpjq",
        "outputId": "df3c9cbe-a062-4f70-b92c-fda0ca33963c"
      },
      "execution_count": 11,
      "outputs": [
        {
          "output_type": "execute_result",
          "data": {
            "text/plain": [
              "array([26, 34, 25, 36, 22, 38, 23, 42, 51, 29, 24, 30, 39, 37, 19, 44, 53,\n",
              "       32, 21, 18, 20, 27, 48, 28, 45, 74, 35, 31, 70, 40, 49, 46, 43, 41,\n",
              "       33, 58, '24ko', 56, 50, 55, 54, 62, 60, 59, 47, 61, 52, 66, 57, 67,\n",
              "       65, 71, 63, 64, 68, 69, 99, 72, 75, 76], dtype=object)"
            ]
          },
          "metadata": {},
          "execution_count": 11
        }
      ]
    },
    {
      "cell_type": "code",
      "source": [
        "survey['age'] = survey['age'].replace('24ko', np.nan)"
      ],
      "metadata": {
        "id": "U1VPYgeHEzNF"
      },
      "execution_count": 14,
      "outputs": []
    },
    {
      "cell_type": "code",
      "source": [
        "survey['age'].unique()"
      ],
      "metadata": {
        "colab": {
          "base_uri": "https://localhost:8080/"
        },
        "id": "zOkgXNhtFGth",
        "outputId": "78b39c06-8319-4d27-c855-a8e915b6fcdf"
      },
      "execution_count": 15,
      "outputs": [
        {
          "output_type": "execute_result",
          "data": {
            "text/plain": [
              "array([26., 34., 25., 36., 22., 38., 23., 42., 51., 29., 24., 30., 39.,\n",
              "       37., 19., 44., 53., 32., 21., 18., 20., 27., 48., 28., 45., 74.,\n",
              "       35., 31., 70., 40., 49., 46., 43., 41., 33., 58., nan, 56., 50.,\n",
              "       55., 54., 62., 60., 59., 47., 61., 52., 66., 57., 67., 65., 71.,\n",
              "       63., 64., 68., 69., 99., 72., 75., 76.])"
            ]
          },
          "metadata": {},
          "execution_count": 15
        }
      ]
    },
    {
      "cell_type": "code",
      "source": [
        "ans=survey['age'].median()\n",
        "ans"
      ],
      "metadata": {
        "colab": {
          "base_uri": "https://localhost:8080/"
        },
        "id": "RT3BsS-9FkoN",
        "outputId": "8db425a8-0e1f-412d-8690-60f1ac1d77ca"
      },
      "execution_count": 18,
      "outputs": [
        {
          "output_type": "execute_result",
          "data": {
            "text/plain": [
              "27.0"
            ]
          },
          "metadata": {},
          "execution_count": 18
        }
      ]
    },
    {
      "cell_type": "code",
      "source": [
        "survey['age'].fillna(ans,inplace=True)"
      ],
      "metadata": {
        "id": "7SiuV2OkFr0m"
      },
      "execution_count": 26,
      "outputs": []
    },
    {
      "cell_type": "code",
      "source": [],
      "metadata": {
        "id": "lo8Mblk3IPeK"
      },
      "execution_count": 23,
      "outputs": []
    },
    {
      "cell_type": "code",
      "source": [
        "survey['age'].value_counts(ascending=True)"
      ],
      "metadata": {
        "colab": {
          "base_uri": "https://localhost:8080/"
        },
        "id": "M9stw3hGGASU",
        "outputId": "032c2162-af4a-4347-d154-ceff06b043f1"
      },
      "execution_count": 27,
      "outputs": [
        {
          "output_type": "execute_result",
          "data": {
            "text/plain": [
              "76.0      1\n",
              "72.0      1\n",
              "99.0      1\n",
              "74.0      1\n",
              "69.0      1\n",
              "75.0      1\n",
              "71.0      2\n",
              "70.0      3\n",
              "66.0      4\n",
              "63.0      4\n",
              "68.0      4\n",
              "65.0      5\n",
              "62.0      5\n",
              "59.0      5\n",
              "67.0      7\n",
              "64.0      8\n",
              "58.0      9\n",
              "56.0      9\n",
              "57.0     10\n",
              "54.0     11\n",
              "61.0     12\n",
              "53.0     12\n",
              "60.0     15\n",
              "55.0     20\n",
              "51.0     23\n",
              "52.0     24\n",
              "49.0     27\n",
              "46.0     32\n",
              "47.0     34\n",
              "48.0     35\n",
              "41.0     54\n",
              "44.0     54\n",
              "50.0     60\n",
              "39.0     69\n",
              "43.0     72\n",
              "45.0     82\n",
              "37.0     90\n",
              "42.0    104\n",
              "18.0    125\n",
              "36.0    127\n",
              "38.0    135\n",
              "33.0    143\n",
              "31.0    159\n",
              "19.0    171\n",
              "34.0    173\n",
              "40.0    177\n",
              "29.0    239\n",
              "32.0    263\n",
              "35.0    263\n",
              "21.0    311\n",
              "23.0    317\n",
              "20.0    328\n",
              "27.0    361\n",
              "26.0    389\n",
              "22.0    392\n",
              "28.0    396\n",
              "30.0    440\n",
              "24.0    449\n",
              "25.0    598\n",
              "Name: age, dtype: int64"
            ]
          },
          "metadata": {},
          "execution_count": 27
        }
      ]
    },
    {
      "cell_type": "code",
      "source": [
        "# 3 -> What proportion of the total respondents were aged less than 45?\n",
        "\n",
        "\n",
        "total_count = len(survey['age'])\n",
        "above_45_count = len(survey[survey['age'] > 45])\n",
        "\n",
        "proportion_above_45 = above_45_count / total_count\n",
        "print(proportion_above_45)\n"
      ],
      "metadata": {
        "colab": {
          "base_uri": "https://localhost:8080/"
        },
        "id": "6WLYHpxaGH3F",
        "outputId": "3fdc92b1-3103-44ac-a763-3134706a6efc"
      },
      "execution_count": 28,
      "outputs": [
        {
          "output_type": "stream",
          "name": "stdout",
          "text": [
            "0.056210863550313094\n"
          ]
        }
      ]
    },
    {
      "cell_type": "code",
      "source": [
        "survey['age'] = survey['age'].astype(int)"
      ],
      "metadata": {
        "id": "8HlPJ5MFIqL7"
      },
      "execution_count": 29,
      "outputs": []
    },
    {
      "cell_type": "code",
      "source": [
        "# 4 -> Create a new column in the dataframe “age_group”. This column should contain the age\n",
        "# group the respondent belongs to. The age groups are 18-25, 25-40, 40-55 and 55+. The\n",
        "# dataframe should look like this after the column creation:\n",
        "\n",
        "def age_group(age):\n",
        "    if age <= 25:\n",
        "        return '18-25'\n",
        "    elif age > 25 and age <= 40:\n",
        "        return '25-40'\n",
        "    elif age > 40 and age <= 55:\n",
        "        return '40-55'\n",
        "    else:\n",
        "        return '55+'\n",
        "\n",
        "\n",
        "survey['age_group'] = survey['age'].apply(age_group)"
      ],
      "metadata": {
        "id": "vPluZHJpJIsi"
      },
      "execution_count": 30,
      "outputs": []
    },
    {
      "cell_type": "code",
      "source": [
        "# 5 ->  How many samples were collected for each age-group? Which age-group had the most samples?\n",
        "sample_group = survey.groupby('age_group').size()\n",
        "\n",
        "print(sample_group)\n",
        "\n",
        "id_sample = sample_group.idxmax()\n",
        "\n",
        "print(\"max is from group: \")\n",
        "print(id_sample)"
      ],
      "metadata": {
        "colab": {
          "base_uri": "https://localhost:8080/"
        },
        "id": "3rvXNrOqJaTz",
        "outputId": "df12fc48-26aa-4244-a879-36defa6622da"
      },
      "execution_count": 31,
      "outputs": [
        {
          "output_type": "stream",
          "name": "stdout",
          "text": [
            "age_group\n",
            "18-25    2691\n",
            "25-40    3424\n",
            "40-55     644\n",
            "55+       108\n",
            "dtype: int64\n",
            "max is from group: \n",
            "25-40\n"
          ]
        }
      ]
    },
    {
      "cell_type": "code",
      "source": [
        "# 6 ->What proportion of the respondents had opted for the RJD party in both the Vote_Now and the Past_Vote questions?\n",
        "print(\"Ans\",len(survey[(survey['Past_Vote']=='RJD') & (survey['Vote_Now']=='RJD')])/len(survey))"
      ],
      "metadata": {
        "colab": {
          "base_uri": "https://localhost:8080/"
        },
        "id": "NyQblyUFJkR8",
        "outputId": "d04211d3-7a01-4aaf-aaaf-1871ec737398"
      },
      "execution_count": 32,
      "outputs": [
        {
          "output_type": "stream",
          "name": "stdout",
          "text": [
            "Ans 0.1181010630551915\n"
          ]
        }
      ]
    },
    {
      "cell_type": "code",
      "source": [
        "# 7 -> For each day of sample collection, determine the proportion of respondents who were\n",
        "# fully satisfied with the performance of the CM. So if there were a total of 1000 samples\n",
        "# on day 1 and 300 out of those said they were fully satisfied, then our answer for that day\n",
        "# would be 0.3"
      ],
      "metadata": {
        "id": "0hllKb_CKvnV"
      },
      "execution_count": 33,
      "outputs": []
    },
    {
      "cell_type": "code",
      "source": [
        "survey.columns"
      ],
      "metadata": {
        "colab": {
          "base_uri": "https://localhost:8080/"
        },
        "id": "GlrNQlS3K8DP",
        "outputId": "40bac170-7d82-467c-d01c-2dbbe0b83d10"
      },
      "execution_count": 34,
      "outputs": [
        {
          "output_type": "execute_result",
          "data": {
            "text/plain": [
              "Index(['response_id', 'collection_date', 'urban_rural', 'education', 'income',\n",
              "       'Vote_Now', 'Past_Vote', 'CM_satisfaction', 'MLA_satisfaction', 'age',\n",
              "       'gender', 'assembly_no', 'category', 'weight', 'age_group'],\n",
              "      dtype='object')"
            ]
          },
          "metadata": {},
          "execution_count": 34
        }
      ]
    },
    {
      "cell_type": "code",
      "source": [
        "data= survey[['collection_date','CM_satisfaction']]"
      ],
      "metadata": {
        "id": "Sj0_MBqWLbfY"
      },
      "execution_count": 38,
      "outputs": []
    },
    {
      "cell_type": "code",
      "source": [
        "data.head()"
      ],
      "metadata": {
        "colab": {
          "base_uri": "https://localhost:8080/",
          "height": 206
        },
        "id": "pbBOIoX7Lpgp",
        "outputId": "c63953c6-9d74-4363-bfee-9888d4b591b1"
      },
      "execution_count": 39,
      "outputs": [
        {
          "output_type": "execute_result",
          "data": {
            "text/plain": [
              "  collection_date     CM_satisfaction\n",
              "0      2020-08-24  Fully Dissatisfied\n",
              "1      2020-08-24  Somewhat Satisfied\n",
              "2      2020-08-24  Fully Dissatisfied\n",
              "3      2020-08-24  Fully Dissatisfied\n",
              "4      2020-08-24     Fully Satisfied"
            ],
            "text/html": [
              "\n",
              "  <div id=\"df-eedec197-58af-43d0-84ea-8ed50cb66586\" class=\"colab-df-container\">\n",
              "    <div>\n",
              "<style scoped>\n",
              "    .dataframe tbody tr th:only-of-type {\n",
              "        vertical-align: middle;\n",
              "    }\n",
              "\n",
              "    .dataframe tbody tr th {\n",
              "        vertical-align: top;\n",
              "    }\n",
              "\n",
              "    .dataframe thead th {\n",
              "        text-align: right;\n",
              "    }\n",
              "</style>\n",
              "<table border=\"1\" class=\"dataframe\">\n",
              "  <thead>\n",
              "    <tr style=\"text-align: right;\">\n",
              "      <th></th>\n",
              "      <th>collection_date</th>\n",
              "      <th>CM_satisfaction</th>\n",
              "    </tr>\n",
              "  </thead>\n",
              "  <tbody>\n",
              "    <tr>\n",
              "      <th>0</th>\n",
              "      <td>2020-08-24</td>\n",
              "      <td>Fully Dissatisfied</td>\n",
              "    </tr>\n",
              "    <tr>\n",
              "      <th>1</th>\n",
              "      <td>2020-08-24</td>\n",
              "      <td>Somewhat Satisfied</td>\n",
              "    </tr>\n",
              "    <tr>\n",
              "      <th>2</th>\n",
              "      <td>2020-08-24</td>\n",
              "      <td>Fully Dissatisfied</td>\n",
              "    </tr>\n",
              "    <tr>\n",
              "      <th>3</th>\n",
              "      <td>2020-08-24</td>\n",
              "      <td>Fully Dissatisfied</td>\n",
              "    </tr>\n",
              "    <tr>\n",
              "      <th>4</th>\n",
              "      <td>2020-08-24</td>\n",
              "      <td>Fully Satisfied</td>\n",
              "    </tr>\n",
              "  </tbody>\n",
              "</table>\n",
              "</div>\n",
              "    <div class=\"colab-df-buttons\">\n",
              "\n",
              "  <div class=\"colab-df-container\">\n",
              "    <button class=\"colab-df-convert\" onclick=\"convertToInteractive('df-eedec197-58af-43d0-84ea-8ed50cb66586')\"\n",
              "            title=\"Convert this dataframe to an interactive table.\"\n",
              "            style=\"display:none;\">\n",
              "\n",
              "  <svg xmlns=\"http://www.w3.org/2000/svg\" height=\"24px\" viewBox=\"0 -960 960 960\">\n",
              "    <path d=\"M120-120v-720h720v720H120Zm60-500h600v-160H180v160Zm220 220h160v-160H400v160Zm0 220h160v-160H400v160ZM180-400h160v-160H180v160Zm440 0h160v-160H620v160ZM180-180h160v-160H180v160Zm440 0h160v-160H620v160Z\"/>\n",
              "  </svg>\n",
              "    </button>\n",
              "\n",
              "  <style>\n",
              "    .colab-df-container {\n",
              "      display:flex;\n",
              "      gap: 12px;\n",
              "    }\n",
              "\n",
              "    .colab-df-convert {\n",
              "      background-color: #E8F0FE;\n",
              "      border: none;\n",
              "      border-radius: 50%;\n",
              "      cursor: pointer;\n",
              "      display: none;\n",
              "      fill: #1967D2;\n",
              "      height: 32px;\n",
              "      padding: 0 0 0 0;\n",
              "      width: 32px;\n",
              "    }\n",
              "\n",
              "    .colab-df-convert:hover {\n",
              "      background-color: #E2EBFA;\n",
              "      box-shadow: 0px 1px 2px rgba(60, 64, 67, 0.3), 0px 1px 3px 1px rgba(60, 64, 67, 0.15);\n",
              "      fill: #174EA6;\n",
              "    }\n",
              "\n",
              "    .colab-df-buttons div {\n",
              "      margin-bottom: 4px;\n",
              "    }\n",
              "\n",
              "    [theme=dark] .colab-df-convert {\n",
              "      background-color: #3B4455;\n",
              "      fill: #D2E3FC;\n",
              "    }\n",
              "\n",
              "    [theme=dark] .colab-df-convert:hover {\n",
              "      background-color: #434B5C;\n",
              "      box-shadow: 0px 1px 3px 1px rgba(0, 0, 0, 0.15);\n",
              "      filter: drop-shadow(0px 1px 2px rgba(0, 0, 0, 0.3));\n",
              "      fill: #FFFFFF;\n",
              "    }\n",
              "  </style>\n",
              "\n",
              "    <script>\n",
              "      const buttonEl =\n",
              "        document.querySelector('#df-eedec197-58af-43d0-84ea-8ed50cb66586 button.colab-df-convert');\n",
              "      buttonEl.style.display =\n",
              "        google.colab.kernel.accessAllowed ? 'block' : 'none';\n",
              "\n",
              "      async function convertToInteractive(key) {\n",
              "        const element = document.querySelector('#df-eedec197-58af-43d0-84ea-8ed50cb66586');\n",
              "        const dataTable =\n",
              "          await google.colab.kernel.invokeFunction('convertToInteractive',\n",
              "                                                    [key], {});\n",
              "        if (!dataTable) return;\n",
              "\n",
              "        const docLinkHtml = 'Like what you see? Visit the ' +\n",
              "          '<a target=\"_blank\" href=https://colab.research.google.com/notebooks/data_table.ipynb>data table notebook</a>'\n",
              "          + ' to learn more about interactive tables.';\n",
              "        element.innerHTML = '';\n",
              "        dataTable['output_type'] = 'display_data';\n",
              "        await google.colab.output.renderOutput(dataTable, element);\n",
              "        const docLink = document.createElement('div');\n",
              "        docLink.innerHTML = docLinkHtml;\n",
              "        element.appendChild(docLink);\n",
              "      }\n",
              "    </script>\n",
              "  </div>\n",
              "\n",
              "\n",
              "<div id=\"df-64561d9f-5894-49a1-b27f-dba7f66f6157\">\n",
              "  <button class=\"colab-df-quickchart\" onclick=\"quickchart('df-64561d9f-5894-49a1-b27f-dba7f66f6157')\"\n",
              "            title=\"Suggest charts\"\n",
              "            style=\"display:none;\">\n",
              "\n",
              "<svg xmlns=\"http://www.w3.org/2000/svg\" height=\"24px\"viewBox=\"0 0 24 24\"\n",
              "     width=\"24px\">\n",
              "    <g>\n",
              "        <path d=\"M19 3H5c-1.1 0-2 .9-2 2v14c0 1.1.9 2 2 2h14c1.1 0 2-.9 2-2V5c0-1.1-.9-2-2-2zM9 17H7v-7h2v7zm4 0h-2V7h2v10zm4 0h-2v-4h2v4z\"/>\n",
              "    </g>\n",
              "</svg>\n",
              "  </button>\n",
              "\n",
              "<style>\n",
              "  .colab-df-quickchart {\n",
              "      --bg-color: #E8F0FE;\n",
              "      --fill-color: #1967D2;\n",
              "      --hover-bg-color: #E2EBFA;\n",
              "      --hover-fill-color: #174EA6;\n",
              "      --disabled-fill-color: #AAA;\n",
              "      --disabled-bg-color: #DDD;\n",
              "  }\n",
              "\n",
              "  [theme=dark] .colab-df-quickchart {\n",
              "      --bg-color: #3B4455;\n",
              "      --fill-color: #D2E3FC;\n",
              "      --hover-bg-color: #434B5C;\n",
              "      --hover-fill-color: #FFFFFF;\n",
              "      --disabled-bg-color: #3B4455;\n",
              "      --disabled-fill-color: #666;\n",
              "  }\n",
              "\n",
              "  .colab-df-quickchart {\n",
              "    background-color: var(--bg-color);\n",
              "    border: none;\n",
              "    border-radius: 50%;\n",
              "    cursor: pointer;\n",
              "    display: none;\n",
              "    fill: var(--fill-color);\n",
              "    height: 32px;\n",
              "    padding: 0;\n",
              "    width: 32px;\n",
              "  }\n",
              "\n",
              "  .colab-df-quickchart:hover {\n",
              "    background-color: var(--hover-bg-color);\n",
              "    box-shadow: 0 1px 2px rgba(60, 64, 67, 0.3), 0 1px 3px 1px rgba(60, 64, 67, 0.15);\n",
              "    fill: var(--button-hover-fill-color);\n",
              "  }\n",
              "\n",
              "  .colab-df-quickchart-complete:disabled,\n",
              "  .colab-df-quickchart-complete:disabled:hover {\n",
              "    background-color: var(--disabled-bg-color);\n",
              "    fill: var(--disabled-fill-color);\n",
              "    box-shadow: none;\n",
              "  }\n",
              "\n",
              "  .colab-df-spinner {\n",
              "    border: 2px solid var(--fill-color);\n",
              "    border-color: transparent;\n",
              "    border-bottom-color: var(--fill-color);\n",
              "    animation:\n",
              "      spin 1s steps(1) infinite;\n",
              "  }\n",
              "\n",
              "  @keyframes spin {\n",
              "    0% {\n",
              "      border-color: transparent;\n",
              "      border-bottom-color: var(--fill-color);\n",
              "      border-left-color: var(--fill-color);\n",
              "    }\n",
              "    20% {\n",
              "      border-color: transparent;\n",
              "      border-left-color: var(--fill-color);\n",
              "      border-top-color: var(--fill-color);\n",
              "    }\n",
              "    30% {\n",
              "      border-color: transparent;\n",
              "      border-left-color: var(--fill-color);\n",
              "      border-top-color: var(--fill-color);\n",
              "      border-right-color: var(--fill-color);\n",
              "    }\n",
              "    40% {\n",
              "      border-color: transparent;\n",
              "      border-right-color: var(--fill-color);\n",
              "      border-top-color: var(--fill-color);\n",
              "    }\n",
              "    60% {\n",
              "      border-color: transparent;\n",
              "      border-right-color: var(--fill-color);\n",
              "    }\n",
              "    80% {\n",
              "      border-color: transparent;\n",
              "      border-right-color: var(--fill-color);\n",
              "      border-bottom-color: var(--fill-color);\n",
              "    }\n",
              "    90% {\n",
              "      border-color: transparent;\n",
              "      border-bottom-color: var(--fill-color);\n",
              "    }\n",
              "  }\n",
              "</style>\n",
              "\n",
              "  <script>\n",
              "    async function quickchart(key) {\n",
              "      const quickchartButtonEl =\n",
              "        document.querySelector('#' + key + ' button');\n",
              "      quickchartButtonEl.disabled = true;  // To prevent multiple clicks.\n",
              "      quickchartButtonEl.classList.add('colab-df-spinner');\n",
              "      try {\n",
              "        const charts = await google.colab.kernel.invokeFunction(\n",
              "            'suggestCharts', [key], {});\n",
              "      } catch (error) {\n",
              "        console.error('Error during call to suggestCharts:', error);\n",
              "      }\n",
              "      quickchartButtonEl.classList.remove('colab-df-spinner');\n",
              "      quickchartButtonEl.classList.add('colab-df-quickchart-complete');\n",
              "    }\n",
              "    (() => {\n",
              "      let quickchartButtonEl =\n",
              "        document.querySelector('#df-64561d9f-5894-49a1-b27f-dba7f66f6157 button');\n",
              "      quickchartButtonEl.style.display =\n",
              "        google.colab.kernel.accessAllowed ? 'block' : 'none';\n",
              "    })();\n",
              "  </script>\n",
              "</div>\n",
              "\n",
              "    </div>\n",
              "  </div>\n"
            ],
            "application/vnd.google.colaboratory.intrinsic+json": {
              "type": "dataframe",
              "variable_name": "data",
              "summary": "{\n  \"name\": \"data\",\n  \"rows\": 6867,\n  \"fields\": [\n    {\n      \"column\": \"collection_date\",\n      \"properties\": {\n        \"dtype\": \"date\",\n        \"min\": \"2020-08-24 00:00:00\",\n        \"max\": \"2020-09-01 00:00:00\",\n        \"num_unique_values\": 9,\n        \"samples\": [\n          \"2020-08-31 00:00:00\",\n          \"2020-08-25 00:00:00\",\n          \"2020-08-29 00:00:00\"\n        ],\n        \"semantic_type\": \"\",\n        \"description\": \"\"\n      }\n    },\n    {\n      \"column\": \"CM_satisfaction\",\n      \"properties\": {\n        \"dtype\": \"category\",\n        \"num_unique_values\": 5,\n        \"samples\": [\n          \"Somewhat Satisfied\",\n          \"Can\\u2019t say\",\n          \"Fully Satisfied\"\n        ],\n        \"semantic_type\": \"\",\n        \"description\": \"\"\n      }\n    }\n  ]\n}"
            }
          },
          "metadata": {},
          "execution_count": 39
        }
      ]
    },
    {
      "cell_type": "code",
      "source": [
        "# 7 -> For each day of sample collection, determine the proportion of respondents who were\n",
        "# fully satisfied with the performance of the CM. So if there were a total of 1000 samples\n",
        "# on day 1 and 300 out of those said they were fully satisfied, then our answer for that day\n",
        "# would be 0.3"
      ],
      "metadata": {
        "id": "8rdFbuu8Lq5G"
      },
      "execution_count": null,
      "outputs": []
    },
    {
      "cell_type": "code",
      "source": [
        "\n",
        "satisfaction_mapping = {\n",
        "    'Fully Dissatisfied': 0,\n",
        "    'Somewhat Satisfied': 0.5,\n",
        "    'Fully Satisfied': 1\n",
        "}\n",
        "\n",
        "data = survey[['collection_date', 'CM_satisfaction']]\n",
        "\n",
        "data['CM_satisfaction'] = data['CM_satisfaction'].map(satisfaction_mapping)\n",
        "\n",
        "data['collection_date'] = pd.to_datetime(data['collection_date'])\n",
        "\n",
        "data['collection_date'] = data['collection_date'].dt.date\n",
        "df_grouped = data.groupby('collection_date').mean()\n",
        "df_grouped.rename(columns={'CM_satisfaction': 'ProportionFullySatisfied'}, inplace=True)\n",
        "\n",
        "print(df_grouped)\n"
      ],
      "metadata": {
        "colab": {
          "base_uri": "https://localhost:8080/"
        },
        "id": "7VpQ0bMoMiKH",
        "outputId": "e1dd6ac6-3f74-4600-c2af-22b6a8dbe44a"
      },
      "execution_count": 41,
      "outputs": [
        {
          "output_type": "stream",
          "name": "stdout",
          "text": [
            "                 ProportionFullySatisfied\n",
            "collection_date                          \n",
            "2020-08-24                       0.307901\n",
            "2020-08-25                       0.306636\n",
            "2020-08-26                       0.310476\n",
            "2020-08-27                       0.286856\n",
            "2020-08-28                       0.302308\n",
            "2020-08-29                       0.303002\n",
            "2020-08-30                       0.318982\n",
            "2020-08-31                       0.304348\n",
            "2020-09-01                       0.330134\n"
          ]
        },
        {
          "output_type": "stream",
          "name": "stderr",
          "text": [
            "<ipython-input-41-b4cefed4c306>:9: SettingWithCopyWarning: \n",
            "A value is trying to be set on a copy of a slice from a DataFrame.\n",
            "Try using .loc[row_indexer,col_indexer] = value instead\n",
            "\n",
            "See the caveats in the documentation: https://pandas.pydata.org/pandas-docs/stable/user_guide/indexing.html#returning-a-view-versus-a-copy\n",
            "  data['CM_satisfaction'] = data['CM_satisfaction'].map(satisfaction_mapping)\n",
            "<ipython-input-41-b4cefed4c306>:11: SettingWithCopyWarning: \n",
            "A value is trying to be set on a copy of a slice from a DataFrame.\n",
            "Try using .loc[row_indexer,col_indexer] = value instead\n",
            "\n",
            "See the caveats in the documentation: https://pandas.pydata.org/pandas-docs/stable/user_guide/indexing.html#returning-a-view-versus-a-copy\n",
            "  data['collection_date'] = pd.to_datetime(data['collection_date'])\n",
            "<ipython-input-41-b4cefed4c306>:13: SettingWithCopyWarning: \n",
            "A value is trying to be set on a copy of a slice from a DataFrame.\n",
            "Try using .loc[row_indexer,col_indexer] = value instead\n",
            "\n",
            "See the caveats in the documentation: https://pandas.pydata.org/pandas-docs/stable/user_guide/indexing.html#returning-a-view-versus-a-copy\n",
            "  data['collection_date'] = data['collection_date'].dt.date\n"
          ]
        }
      ]
    },
    {
      "cell_type": "code",
      "source": [
        "# 8 -> In a similar fashion create a day-wise proportion of respondents that opted fully\n",
        "# dissatisfied with their MLA. Create a line plot of the result with date on x-axis and\n",
        "# proportions on the y-axis.\n"
      ],
      "metadata": {
        "id": "0yjYGrB2NpyR"
      },
      "execution_count": 44,
      "outputs": []
    },
    {
      "cell_type": "code",
      "source": [
        "import matplotlib.pyplot as plt\n",
        "\n",
        "satisfaction_mapping = {\n",
        "    'Fully Dissatisfied': 1,\n",
        "    'Somewhat Satisfied': 0.5,\n",
        "    'Fully Satisfied': 0\n",
        "}\n",
        "\n",
        "data = survey[['collection_date', 'MLA_satisfaction']]\n",
        "\n",
        "data['MLA_satisfaction'] = data['MLA_satisfaction'].map(satisfaction_mapping)\n",
        "\n",
        "data['collection_date'] = pd.to_datetime(data['collection_date'])\n",
        "\n",
        "data['collection_date'] = data['collection_date'].dt.date\n",
        "df_grouped = data.groupby('collection_date').mean()\n",
        "df_grouped.rename(columns={'MLA_satisfaction': 'ProportionFullyDissatisfied'}, inplace=True)\n",
        "\n",
        "# Create a line plot\n",
        "plt.figure(figsize=(12, 6))\n",
        "plt.plot(df_grouped.index, df_grouped['ProportionFullyDissatisfied'], marker='o')\n",
        "plt.xlabel('Date')\n",
        "plt.ylabel('Proportion of Fully Dissatisfied Respondents')\n",
        "plt.title('Day-wise Proportion of Fully Dissatisfied Respondents with MLA')\n",
        "plt.xticks(rotation=45)\n",
        "plt.grid(True)\n",
        "plt.tight_layout()\n",
        "plt.show()\n"
      ],
      "metadata": {
        "colab": {
          "base_uri": "https://localhost:8080/",
          "height": 881
        },
        "id": "zk9vWeqLMqY7",
        "outputId": "b87ee31f-0af7-4887-8247-b4e145013102"
      },
      "execution_count": 43,
      "outputs": [
        {
          "output_type": "stream",
          "name": "stderr",
          "text": [
            "<ipython-input-43-103689ff2b25>:11: SettingWithCopyWarning: \n",
            "A value is trying to be set on a copy of a slice from a DataFrame.\n",
            "Try using .loc[row_indexer,col_indexer] = value instead\n",
            "\n",
            "See the caveats in the documentation: https://pandas.pydata.org/pandas-docs/stable/user_guide/indexing.html#returning-a-view-versus-a-copy\n",
            "  data['MLA_satisfaction'] = data['MLA_satisfaction'].map(satisfaction_mapping)\n",
            "<ipython-input-43-103689ff2b25>:13: SettingWithCopyWarning: \n",
            "A value is trying to be set on a copy of a slice from a DataFrame.\n",
            "Try using .loc[row_indexer,col_indexer] = value instead\n",
            "\n",
            "See the caveats in the documentation: https://pandas.pydata.org/pandas-docs/stable/user_guide/indexing.html#returning-a-view-versus-a-copy\n",
            "  data['collection_date'] = pd.to_datetime(data['collection_date'])\n",
            "<ipython-input-43-103689ff2b25>:15: SettingWithCopyWarning: \n",
            "A value is trying to be set on a copy of a slice from a DataFrame.\n",
            "Try using .loc[row_indexer,col_indexer] = value instead\n",
            "\n",
            "See the caveats in the documentation: https://pandas.pydata.org/pandas-docs/stable/user_guide/indexing.html#returning-a-view-versus-a-copy\n",
            "  data['collection_date'] = data['collection_date'].dt.date\n"
          ]
        },
        {
          "output_type": "display_data",
          "data": {
            "text/plain": [
              "<Figure size 1200x600 with 1 Axes>"
            ],
            "image/png": "[encoded data removed]"
          },
          "metadata": {}
        }
      ]
    },
    {
      "cell_type": "code",
      "source": [],
      "metadata": {
        "id": "1T6749yVNQsv"
      },
      "execution_count": null,
      "outputs": []
    }
  ]
}